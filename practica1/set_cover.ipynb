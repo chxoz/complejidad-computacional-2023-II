{
 "cells": [
  {
   "cell_type": "markdown",
   "id": "cc10e21b-6e85-4a74-9d0f-db2f57d6afbd",
   "metadata": {},
   "source": [
    "# practica 1\n",
    "Acosta Arzate Ruben \n",
    "\n",
    "Lopez Miranda Angel Mauricio\n",
    "\n"
   ]
  }
 ],
 "metadata": {
  "kernelspec": {
   "display_name": "Python 3 (ipykernel)",
   "language": "python",
   "name": "python3"
  },
  "language_info": {
   "codemirror_mode": {
    "name": "ipython",
    "version": 3
   },
   "file_extension": ".py",
   "mimetype": "text/x-python",
   "name": "python",
   "nbconvert_exporter": "python",
   "pygments_lexer": "ipython3",
   "version": "3.8.10"
  }
 },
 "nbformat": 4,
 "nbformat_minor": 5
}
